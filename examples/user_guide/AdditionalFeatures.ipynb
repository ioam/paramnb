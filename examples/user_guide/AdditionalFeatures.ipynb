{
 "cells": [
  {
   "cell_type": "code",
   "execution_count": null,
   "metadata": {
    "collapsed": true
   },
   "outputs": [],
   "source": [
    "import param\n",
    "import paramnb"
   ]
  },
  {
   "cell_type": "markdown",
   "metadata": {},
   "source": [
    "# Tooltips\n",
    "\n",
    "Doc strings supplied when a parameter is declared are displayed as a 'tooltip' when the mouse hovers over the widget label (``x`` in the widget below)"
   ]
  },
  {
   "cell_type": "code",
   "execution_count": null,
   "metadata": {
    "collapsed": true
   },
   "outputs": [],
   "source": [
    "class TooltipExample(param.Parameterized):\n",
    "    x = param.Number(default=1,bounds=(0,2),doc=\"X position\")"
   ]
  },
  {
   "cell_type": "code",
   "execution_count": null,
   "metadata": {
    "collapsed": true
   },
   "outputs": [],
   "source": [
    "paramnb.Widgets(TooltipExample)"
   ]
  },
  {
   "cell_type": "markdown",
   "metadata": {},
   "source": [
    "# Recursive editing\n",
    "\n",
    "Parameter types such as ``param.ObjectSelector`` allow selection of another Parameterized object; paramNB also allows the parameters of the selected object to be edited by clicking the **...** button next to any selected Parameterized object:"
   ]
  },
  {
   "cell_type": "code",
   "execution_count": null,
   "metadata": {
    "collapsed": true
   },
   "outputs": [],
   "source": [
    "class Location(param.Parameterized):\n",
    "    duration = param.Integer(default=5, bounds=(0,10))\n",
    "\n",
    "class Employee(param.Parameterized):\n",
    "    age = param.Integer(default=30,bounds=(18,100))\n",
    "    location = param.ObjectSelector(objects=[Location(name=\"One\"),Location(name=\"Two\")])\n",
    "\n",
    "class Task(param.Parameterized):\n",
    "    employee = param.ObjectSelector(objects=[Employee(name=\"A\"),Employee(name=\"B\")])"
   ]
  },
  {
   "cell_type": "code",
   "execution_count": null,
   "metadata": {
    "collapsed": true
   },
   "outputs": [],
   "source": [
    "paramnb.Widgets(Task)"
   ]
  },
  {
   "cell_type": "code",
   "execution_count": null,
   "metadata": {
    "collapsed": true
   },
   "outputs": [],
   "source": [
    "Task.employee.location.duration"
   ]
  },
  {
   "cell_type": "markdown",
   "metadata": {},
   "source": [
    "# View parameters"
   ]
  },
  {
   "cell_type": "markdown",
   "metadata": {},
   "source": [
    "The paramNB library provides an easy way to manipulate parameters on ``Parameterized`` using the widgets in the notebook. In addition to controlling input parameters a common usecase for using widgets in the notebook is to dynamically control some visual display output. In addition to all the standard parameters supplied by the ``param`` library, ``paramNB`` also supplies so called ``View`` parameters, which render their output in a widget area. The output parameters may be updated simply by setting the parameter on the class.\n",
    "\n",
    "In the first simple example we will declare a Parameterized class with a ``Number`` parameter called magnitude and an ``HTML`` parameter which will let us display some arbitrary HTML. In this case we will simply generate a pandas dataframe with random data within the update method and use the ``to_html`` method to convert it to an HTML table. If we define the ``update`` method as the callback of the widgets the table will now update whenever the slider is dragged. To ensure that the output is drawn on initialization we set ``on_init=True``."
   ]
  },
  {
   "cell_type": "code",
   "execution_count": null,
   "metadata": {
    "collapsed": true
   },
   "outputs": [],
   "source": [
    "import numpy as np\n",
    "import pandas as pd"
   ]
  },
  {
   "cell_type": "code",
   "execution_count": null,
   "metadata": {
    "collapsed": true
   },
   "outputs": [],
   "source": [
    "class HTMLExample(param.Parameterized):\n",
    "    \n",
    "    magnitude = param.Number(1, bounds=(0, 10))\n",
    "\n",
    "    output = paramnb.view.HTML()\n",
    "    \n",
    "    def update(self, **kwargs):\n",
    "        self.output = pd.DataFrame(np.random.rand(10,2)*self.magnitude).to_html()\n",
    "\n",
    "example = HTMLExample(name='HTMLExample')\n",
    "paramnb.Widgets(example, on_init=True, callback=example.update)"
   ]
  },
  {
   "cell_type": "markdown",
   "metadata": {},
   "source": [
    "The ``HTML`` parameter accepts any arbitrary HTML string but for convenience paramNB also allows supplying a custom ``renderer`` function, which converts the view data to HTML. In this case we declare to parameters to control the ``amplitude`` and ``frequency`` of a sine curve and then declare an ``HTML`` parameter which uses a HoloViews MPLRenderer to render the output. Note that we can additionally supply the size of the output as a tuple of ``(width, height)`` in pixels, in this case (300, 300).\n",
    "\n",
    "Additionally we can declare the ``view_position``, which specifies where the viewing widget will be placed in relation to the input widgets:"
   ]
  },
  {
   "cell_type": "code",
   "execution_count": null,
   "metadata": {
    "collapsed": true
   },
   "outputs": [],
   "source": [
    "import holoviews as hv\n",
    "renderer = hv.renderer('matplotlib')\n",
    "\n",
    "class ImageExample(param.Parameterized):\n",
    "\n",
    "    color = param.Color(default='#000000', precedence=0)\n",
    "\n",
    "    element = param.ObjectSelector(default=hv.Curve,\n",
    "                                   objects=[hv.Curve, hv.Scatter, hv.Area],\n",
    "                                   precedence=0)\n",
    "\n",
    "    amplitude = param.Number(default=2, bounds=(2, 5))\n",
    "    \n",
    "    frequency = param.Number(default=2, bounds=(1, 10))\n",
    "    \n",
    "    output = paramnb.view.Image(renderer=lambda x: (renderer(x)[0], (300, 300)))\n",
    "\n",
    "    def update(self, **kwargs):\n",
    "        self.output = self.element(self.amplitude*np.sin(np.linspace(0, np.pi*self.frequency)),\n",
    "                                  vdims=[hv.Dimension('y', range=(-5, 5))])(style=dict(color=self.color))\n",
    "\n",
    "example = ImageExample(name='HoloViews Example')\n",
    "paramnb.Widgets(example, callback=example.update, on_init=True, view_position='right')"
   ]
  },
  {
   "cell_type": "markdown",
   "metadata": {},
   "source": [
    "Finally, the generic ``View`` parameter may also be used to display the rich ``repr`` of any object, effectively mirroring the output of IPython's ``display`` function. If we load the HoloViews extension with the bokeh backend, and subclass the ImageExample, we can also render bokeh plots in this way:"
   ]
  },
  {
   "cell_type": "code",
   "execution_count": null,
   "metadata": {},
   "outputs": [],
   "source": [
    "hv.extension('bokeh')\n",
    "\n",
    "class ViewExample(ImageExample):\n",
    "    \n",
    "    output = paramnb.view.View()\n",
    "    \n",
    "example = ViewExample(name='HoloViews+Bokeh Example')\n",
    "paramnb.Widgets(example, callback=example.update, on_init=True, view_position='right')"
   ]
  }
 ],
 "metadata": {
  "kernelspec": {
   "display_name": "Python 3",
   "language": "python",
   "name": "python3"
  },
  "language_info": {
   "codemirror_mode": {
    "name": "ipython",
    "version": 3
   },
   "file_extension": ".py",
   "mimetype": "text/x-python",
   "name": "python",
   "nbconvert_exporter": "python",
   "pygments_lexer": "ipython3",
   "version": "3.6.0"
  }
 },
 "nbformat": 4,
 "nbformat_minor": 2
}
