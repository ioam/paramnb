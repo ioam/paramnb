{
 "cells": [
  {
   "cell_type": "code",
   "execution_count": null,
   "metadata": {
    "collapsed": true
   },
   "outputs": [],
   "source": [
    "import datetime as dt\n",
    "import param\n",
    "import paramnb"
   ]
  },
  {
   "cell_type": "code",
   "execution_count": null,
   "metadata": {
    "collapsed": true
   },
   "outputs": [],
   "source": [
    "class DateRange(param.Parameterized):\n",
    "    \n",
    "    __abstract = True\n",
    "    end_date = param.Date(dt.datetime(2017, 1, 2), precedence=0.26,\n",
    "         bounds=(dt.datetime(2017, 1, 1), dt.datetime(2017, 2, 1)))\n",
    "    \n",
    "    def get(self):\n",
    "        raise NotImplementedError\n",
    "\n",
    "class StartEndDates(DateRange):\n",
    "    start_date = param.Date(dt.datetime(2017, 1, 1), precedence=0.25,\n",
    "         bounds=(dt.datetime(2017, 1, 1), dt.datetime(2017, 2, 1)))\n",
    "\n",
    "    def get(self):\n",
    "        if (self.start_date > self.end_date):\n",
    "            raise ValueError(\"Duration must be >0\")\n",
    "        return (self.start_date,self.end_date)\n",
    "\n",
    "class Duration(DateRange):\n",
    "    duration = param.Integer(30, bounds=(1,None), softbounds=(1,365), \n",
    "                             doc=\"Duration in days\")\n",
    "    \n",
    "    def get(self):\n",
    "        return (self.end_date-dt.timedelta(self.duration), self.end_date)"
   ]
  },
  {
   "cell_type": "code",
   "execution_count": null,
   "metadata": {
    "collapsed": true
   },
   "outputs": [],
   "source": [
    "dates = [StartEndDates(),Duration()]"
   ]
  },
  {
   "cell_type": "code",
   "execution_count": null,
   "metadata": {
    "collapsed": true
   },
   "outputs": [],
   "source": [
    "class SomeFn(param.ParameterizedFunction):\n",
    "    date_range = param.ObjectSelector(default=dates[1],objects=dates)\n",
    "    def __call__(self,**params):\n",
    "        p = param.ParamOverrides(self,params)\n",
    "        print(p.date_range.get())"
   ]
  },
  {
   "cell_type": "code",
   "execution_count": null,
   "metadata": {
    "collapsed": true
   },
   "outputs": [],
   "source": [
    "f = SomeFn.instance(name=\"Some parameterized function\")"
   ]
  },
  {
   "cell_type": "code",
   "execution_count": null,
   "metadata": {},
   "outputs": [],
   "source": [
    "paramnb.Widgets(f)"
   ]
  },
  {
   "cell_type": "code",
   "execution_count": null,
   "metadata": {},
   "outputs": [],
   "source": [
    "f()"
   ]
  },
  {
   "cell_type": "code",
   "execution_count": null,
   "metadata": {
    "collapsed": true
   },
   "outputs": [],
   "source": []
  }
 ],
 "metadata": {
  "anaconda-cloud": {},
  "hide_input": false,
  "kernelspec": {
   "display_name": "Python 3",
   "language": "python",
   "name": "python3"
  },
  "language_info": {
   "codemirror_mode": {
    "name": "ipython",
    "version": 3
   },
   "file_extension": ".py",
   "mimetype": "text/x-python",
   "name": "python",
   "nbconvert_exporter": "python",
   "pygments_lexer": "ipython3",
   "version": "3.6.0"
  }
 },
 "nbformat": 4,
 "nbformat_minor": 1
}
